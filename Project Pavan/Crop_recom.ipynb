{
 "cells": [
  {
   "cell_type": "code",
   "execution_count": 29,
   "id": "fcdd98fd-a87e-473d-918e-8edcda495ad2",
   "metadata": {},
   "outputs": [
    {
     "name": "stderr",
     "output_type": "stream",
     "text": [
      "C:\\Users\\pavan\\AppData\\Local\\Temp\\ipykernel_38504\\1952039666.py:63: UserWarning: Implicit dimension choice for softmax has been deprecated. Change the call to include dim=X as an argument.\n",
      "  return F.softmax(x)\n"
     ]
    },
    {
     "name": "stdout",
     "output_type": "stream",
     "text": [
      "Epoch 10/100: train loss: 2.2458 val loss: 2.2630\n",
      "Epoch 20/100: train loss: 2.1870 val loss: 2.2004\n",
      "Epoch 30/100: train loss: 2.1800 val loss: 2.1962\n",
      "Epoch 40/100: train loss: 2.1778 val loss: 2.1979\n",
      "Epoch 50/100: train loss: 2.1762 val loss: 2.1981\n",
      "Epoch 60/100: train loss: 2.1752 val loss: 2.1920\n",
      "Epoch 70/100: train loss: 2.1732 val loss: 2.1880\n",
      "Epoch 80/100: train loss: 2.1717 val loss: 2.1870\n",
      "Epoch 90/100: train loss: 2.1712 val loss: 2.1882\n",
      "Epoch 100/100: train loss: 2.1714 val loss: 2.1846\n",
      "Finished training\n"
     ]
    }
   ],
   "source": [
    "import pandas as pd\n",
    "import numpy as np\n",
    "import torch\n",
    "import torch.nn as nn\n",
    "import torch.nn.functional as F\n",
    "import torch.optim as opti\n",
    "from sklearn.preprocessing import LabelEncoder\n",
    "from torch.utils.data import Dataset, DataLoader\n",
    "import matplotlib.pyplot as plt\n",
    "import pickle\n",
    "import datetime\n",
    "import os\n",
    "\n",
    "data = pd.read_csv(\"Crop_recommendation.csv\")\n",
    "\n",
    "features = data.iloc[:,:-1].values\n",
    "input_size = len(features[0])\n",
    "labels = data.iloc[:,-1].values\n",
    "\n",
    "encoder = LabelEncoder()\n",
    "labels = encoder.fit_transform(labels)\n",
    "num_classes = len(np.unique(labels)) \n",
    "\n",
    "features = torch.tensor(features, dtype=torch.float32)\n",
    "labels = torch.tensor(labels ,dtype=torch.long)\n",
    "\n",
    "mean = features.mean(dim=0)\n",
    "std = features.std(dim = 0)\n",
    "features = (features - mean)/std\n",
    "np.savez(\"normalization.npz\", mean=mean, std=std)\n",
    "\n",
    "with open(\"pickle/encoder.pkl\",\"wb\") as file:\n",
    "    pickle.dump(encoder,file)\n",
    "\n",
    "class CustomDataset(Dataset):\n",
    "    def __init__(self,features,labels):\n",
    "        self.features = features\n",
    "        self.labels = labels\n",
    "    def __len__(self):\n",
    "        return len(self.features)\n",
    "    def __getitem__(self,index):\n",
    "        feature = self.features[index]\n",
    "        label = self.labels[index]\n",
    "        return feature , label\n",
    "        \n",
    "dataset = CustomDataset(features,labels)\n",
    "train_size = int(0.8*len(dataset))\n",
    "val_size = len(dataset) - train_size\n",
    "train_dataset,val_dataset = torch.utils.data.random_split(dataset,[train_size , val_size])\n",
    "\n",
    "class Neural_network(nn.Module):\n",
    "    def __init__(self,input_size,num_classes):\n",
    "        super(Neural_network,self).__init__()\n",
    "        self.fc1 = nn.Linear(input_size, 64)\n",
    "        self.fc2 = nn.Linear(64, 128)\n",
    "        self.fc3 = nn.Linear(128, 64)\n",
    "        self.fc4 = nn.Linear(64, num_classes)\n",
    "    def forward(self, x):\n",
    "        x = F.selu(self.fc1(x))\n",
    "        x = F.selu(self.fc2(x))\n",
    "        x = F.selu(self.fc3(x))\n",
    "        x = self.fc4(x)\n",
    "        return F.softmax(x)\n",
    "\n",
    "network = Neural_network(7,22)\n",
    "loss_function = nn.CrossEntropyLoss()\n",
    "optimizer = opti.Adam(network.parameters(),lr= 0.0001)\n",
    "\n",
    "train_losses = []\n",
    "val_losses = []\n",
    "EPOCH = 100\n",
    "train_accuracies = []\n",
    "val_accuracies = []\n",
    "\n",
    "for epoch in range(EPOCH):\n",
    "    running_loss = 0.0\n",
    "    for i, (inputs, labels) in enumerate(train_dataset):\n",
    "        optimizer.zero_grad()\n",
    "        outputs = network(inputs)\n",
    "        loss = loss_function(outputs, labels)\n",
    "        loss.backward()\n",
    "        optimizer.step()\n",
    "        running_loss += loss.item()\n",
    "    train_loss = running_loss / len(train_dataset)\n",
    "    train_losses.append(train_loss)\n",
    "    with torch.no_grad():\n",
    "        val_loss = 0.0\n",
    "        for inputs, labels in val_dataset:\n",
    "            outputs = network(inputs)\n",
    "            loss = loss_function(outputs, labels)\n",
    "            val_loss += loss.item()\n",
    "        val_loss /= len(val_dataset)\n",
    "        val_losses.append(val_loss)\n",
    "    if epoch % 10 == 9:\n",
    "        print(f'Epoch {epoch+1}/{EPOCH}: train loss: {train_loss:.4f} val loss: {val_loss:.4f}')\n",
    "\n",
    "print('Finished training')"
   ]
  },
  {
   "cell_type": "code",
   "execution_count": 30,
   "id": "6e051d19-598a-4eee-aafe-2811ef481d76",
   "metadata": {},
   "outputs": [
    {
     "name": "stderr",
     "output_type": "stream",
     "text": [
      "C:\\Users\\pavan\\AppData\\Local\\Temp\\ipykernel_38504\\2934917347.py:13: FutureWarning: You are using `torch.load` with `weights_only=False` (the current default value), which uses the default pickle module implicitly. It is possible to construct malicious pickle data which will execute arbitrary code during unpickling (See https://github.com/pytorch/pytorch/blob/main/SECURITY.md#untrusted-models for more details). In a future release, the default value for `weights_only` will be flipped to `True`. This limits the functions that could be executed during unpickling. Arbitrary objects will no longer be allowed to be loaded via this mode unless they are explicitly allowlisted by the user via `torch.serialization.add_safe_globals`. We recommend you start setting `weights_only=True` for any use case where you don't have full control of the loaded file. Please open an issue on GitHub for any issues related to this experimental feature.\n",
      "  model.load_state_dict(torch.load('crop_prediction_model.hdf5'))\n"
     ]
    },
    {
     "data": {
      "text/plain": [
       "Neural_network(\n",
       "  (fc1): Linear(in_features=7, out_features=64, bias=True)\n",
       "  (fc2): Linear(in_features=64, out_features=128, bias=True)\n",
       "  (fc3): Linear(in_features=128, out_features=64, bias=True)\n",
       "  (fc4): Linear(in_features=64, out_features=22, bias=True)\n",
       ")"
      ]
     },
     "execution_count": 30,
     "metadata": {},
     "output_type": "execute_result"
    }
   ],
   "source": [
    "model_name = \"crop_prediction_model\"+\".hdf5\"\n",
    "torch.save(network.state_dict(),model_name)\n",
    "model = Neural_network(7,22)\n",
    "\n",
    "normalization_data = np.load(\"normalization.npz\")\n",
    "mean = torch.tensor(normalization_data[\"mean\"])\n",
    "std = torch.tensor(normalization_data[\"std\"])\n",
    "\n",
    "with open(\"pickle/encoder.pkl\", \"rb\") as file:\n",
    "    encoder = pickle.load(file)\n",
    "\n",
    "model = Neural_network(input_size, num_classes)\n",
    "model.load_state_dict(torch.load('crop_prediction_model.hdf5'))\n",
    "model.eval()"
   ]
  },
  {
   "cell_type": "code",
   "execution_count": 38,
   "id": "2fb4397a-ebcd-46ec-aa35-40561458555f",
   "metadata": {},
   "outputs": [
    {
     "name": "stdout",
     "output_type": "stream",
     "text": [
      "Enter Soil Information :\n"
     ]
    },
    {
     "name": "stdin",
     "output_type": "stream",
     "text": [
      "Enter Phosphorus level : 17\n",
      "Enter Pottasium level : 35\n",
      "Enter Nitrogen level : 27\n",
      "Temperature (in celcius): 27\n",
      "Humidity % : 95\n",
      "ph level: 6.4\n",
      "Rainfall in (mm) : 130\n"
     ]
    },
    {
     "name": "stdout",
     "output_type": "stream",
     "text": [
      "Crop - coconut\n"
     ]
    },
    {
     "name": "stderr",
     "output_type": "stream",
     "text": [
      "C:\\Users\\pavan\\AppData\\Local\\Temp\\ipykernel_38504\\1952039666.py:63: UserWarning: Implicit dimension choice for softmax has been deprecated. Change the call to include dim=X as an argument.\n",
      "  return F.softmax(x)\n"
     ]
    }
   ],
   "source": [
    "def predict():\n",
    "    print(\"Enter Soil Information :\")\n",
    "    P = float(input(\"Enter Phosphorus level :\"))\n",
    "    K = float(input(\"Enter Pottasium level :\"))\n",
    "    N = float(input(\"Enter Nitrogen level :\"))\n",
    "    temperature  = float(input(\"Temperature (in celcius):\"))\n",
    "    humidity = float(input(\"Humidity % :\"))\n",
    "    ph = float(input(\"ph level:\"))\n",
    "    rainfall = float(input(\"Rainfall in (mm) :\"))\n",
    "\n",
    "    in_features = torch.tensor([N,P,K,temperature,humidity,ph,rainfall])\n",
    "    in_features = (in_features - mean)/std\n",
    "\n",
    "    with torch.no_grad():\n",
    "        output = model(in_features)\n",
    "        prediction = output.argmax().item()\n",
    "    crop = encoder.inverse_transform([prediction])[0]\n",
    "    print(\"Crop -\",crop)\n",
    "predict()"
   ]
  },
  {
   "cell_type": "code",
   "execution_count": null,
   "id": "ac5c7026-a276-4475-8865-400deac9d440",
   "metadata": {},
   "outputs": [],
   "source": []
  }
 ],
 "metadata": {
  "kernelspec": {
   "display_name": "Python 3 (ipykernel)",
   "language": "python",
   "name": "python3"
  },
  "language_info": {
   "codemirror_mode": {
    "name": "ipython",
    "version": 3
   },
   "file_extension": ".py",
   "mimetype": "text/x-python",
   "name": "python",
   "nbconvert_exporter": "python",
   "pygments_lexer": "ipython3",
   "version": "3.12.6"
  }
 },
 "nbformat": 4,
 "nbformat_minor": 5
}
